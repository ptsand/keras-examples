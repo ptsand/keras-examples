{
 "cells": [
  {
   "cell_type": "code",
   "execution_count": 29,
   "metadata": {},
   "outputs": [
    {
     "data": {
      "text/html": [
       "<div>\n",
       "<style scoped>\n",
       "    .dataframe tbody tr th:only-of-type {\n",
       "        vertical-align: middle;\n",
       "    }\n",
       "\n",
       "    .dataframe tbody tr th {\n",
       "        vertical-align: top;\n",
       "    }\n",
       "\n",
       "    .dataframe thead th {\n",
       "        text-align: right;\n",
       "    }\n",
       "</style>\n",
       "<table border=\"1\" class=\"dataframe\">\n",
       "  <thead>\n",
       "    <tr style=\"text-align: right;\">\n",
       "      <th></th>\n",
       "      <th>CreditScore</th>\n",
       "      <th>Geography</th>\n",
       "      <th>Age</th>\n",
       "      <th>Tenure</th>\n",
       "      <th>NumOfProducts</th>\n",
       "      <th>IsActiveMember</th>\n",
       "    </tr>\n",
       "  </thead>\n",
       "  <tbody>\n",
       "    <tr>\n",
       "      <th>0</th>\n",
       "      <td>619</td>\n",
       "      <td>France</td>\n",
       "      <td>42</td>\n",
       "      <td>2</td>\n",
       "      <td>1</td>\n",
       "      <td>1</td>\n",
       "    </tr>\n",
       "    <tr>\n",
       "      <th>1</th>\n",
       "      <td>608</td>\n",
       "      <td>Spain</td>\n",
       "      <td>41</td>\n",
       "      <td>1</td>\n",
       "      <td>1</td>\n",
       "      <td>1</td>\n",
       "    </tr>\n",
       "    <tr>\n",
       "      <th>2</th>\n",
       "      <td>502</td>\n",
       "      <td>France</td>\n",
       "      <td>42</td>\n",
       "      <td>8</td>\n",
       "      <td>3</td>\n",
       "      <td>0</td>\n",
       "    </tr>\n",
       "    <tr>\n",
       "      <th>3</th>\n",
       "      <td>699</td>\n",
       "      <td>France</td>\n",
       "      <td>39</td>\n",
       "      <td>1</td>\n",
       "      <td>2</td>\n",
       "      <td>0</td>\n",
       "    </tr>\n",
       "    <tr>\n",
       "      <th>4</th>\n",
       "      <td>850</td>\n",
       "      <td>Spain</td>\n",
       "      <td>43</td>\n",
       "      <td>2</td>\n",
       "      <td>1</td>\n",
       "      <td>1</td>\n",
       "    </tr>\n",
       "  </tbody>\n",
       "</table>\n",
       "</div>"
      ],
      "text/plain": [
       "   CreditScore Geography  Age  Tenure  NumOfProducts  IsActiveMember\n",
       "0          619    France   42       2              1               1\n",
       "1          608     Spain   41       1              1               1\n",
       "2          502    France   42       8              3               0\n",
       "3          699    France   39       1              2               0\n",
       "4          850     Spain   43       2              1               1"
      ]
     },
     "execution_count": 29,
     "metadata": {},
     "output_type": "execute_result"
    }
   ],
   "source": [
    "import numpy as np\n",
    "import pandas as pd\n",
    "import tensorflow as tf\n",
    "from sklearn.model_selection import train_test_split\n",
    "import seaborn as sns\n",
    "from sklearn.metrics import confusion_matrix\n",
    "\n",
    "# load dataset from csv file to pandas dataframe\n",
    "df = pd.read_csv('machine-learning/csv/customer_staying_or_not.csv')\n",
    "# drop the least explaining features (used Backward Stepwise Selection for choosing these features)\n",
    "df.drop(columns=[\n",
    "    'Gender', 'EstimatedSalary', 'HasCrCard', 'Balance', 'RowNumber', 'CustomerId', 'Surname'\n",
    "    ], inplace=True)\n",
    "\n",
    "y = df.pop('Exited')    # return target values and drop them from dataframe\n",
    "X = df\n",
    "\n",
    "X.head()                # verify"
   ]
  },
  {
   "cell_type": "code",
   "execution_count": 30,
   "metadata": {},
   "outputs": [
    {
     "data": {
      "text/html": [
       "<div>\n",
       "<style scoped>\n",
       "    .dataframe tbody tr th:only-of-type {\n",
       "        vertical-align: middle;\n",
       "    }\n",
       "\n",
       "    .dataframe tbody tr th {\n",
       "        vertical-align: top;\n",
       "    }\n",
       "\n",
       "    .dataframe thead th {\n",
       "        text-align: right;\n",
       "    }\n",
       "</style>\n",
       "<table border=\"1\" class=\"dataframe\">\n",
       "  <thead>\n",
       "    <tr style=\"text-align: right;\">\n",
       "      <th></th>\n",
       "      <th>CreditScore</th>\n",
       "      <th>Age</th>\n",
       "      <th>Tenure</th>\n",
       "      <th>NumOfProducts</th>\n",
       "      <th>IsActiveMember</th>\n",
       "      <th>Geography_France</th>\n",
       "      <th>Geography_Germany</th>\n",
       "      <th>Geography_Spain</th>\n",
       "    </tr>\n",
       "  </thead>\n",
       "  <tbody>\n",
       "    <tr>\n",
       "      <th>0</th>\n",
       "      <td>619</td>\n",
       "      <td>42</td>\n",
       "      <td>2</td>\n",
       "      <td>1</td>\n",
       "      <td>1</td>\n",
       "      <td>1</td>\n",
       "      <td>0</td>\n",
       "      <td>0</td>\n",
       "    </tr>\n",
       "    <tr>\n",
       "      <th>1</th>\n",
       "      <td>608</td>\n",
       "      <td>41</td>\n",
       "      <td>1</td>\n",
       "      <td>1</td>\n",
       "      <td>1</td>\n",
       "      <td>0</td>\n",
       "      <td>0</td>\n",
       "      <td>1</td>\n",
       "    </tr>\n",
       "    <tr>\n",
       "      <th>2</th>\n",
       "      <td>502</td>\n",
       "      <td>42</td>\n",
       "      <td>8</td>\n",
       "      <td>3</td>\n",
       "      <td>0</td>\n",
       "      <td>1</td>\n",
       "      <td>0</td>\n",
       "      <td>0</td>\n",
       "    </tr>\n",
       "    <tr>\n",
       "      <th>3</th>\n",
       "      <td>699</td>\n",
       "      <td>39</td>\n",
       "      <td>1</td>\n",
       "      <td>2</td>\n",
       "      <td>0</td>\n",
       "      <td>1</td>\n",
       "      <td>0</td>\n",
       "      <td>0</td>\n",
       "    </tr>\n",
       "    <tr>\n",
       "      <th>4</th>\n",
       "      <td>850</td>\n",
       "      <td>43</td>\n",
       "      <td>2</td>\n",
       "      <td>1</td>\n",
       "      <td>1</td>\n",
       "      <td>0</td>\n",
       "      <td>0</td>\n",
       "      <td>1</td>\n",
       "    </tr>\n",
       "  </tbody>\n",
       "</table>\n",
       "</div>"
      ],
      "text/plain": [
       "   CreditScore  Age  Tenure  NumOfProducts  IsActiveMember  Geography_France  \\\n",
       "0          619   42       2              1               1                 1   \n",
       "1          608   41       1              1               1                 0   \n",
       "2          502   42       8              3               0                 1   \n",
       "3          699   39       1              2               0                 1   \n",
       "4          850   43       2              1               1                 0   \n",
       "\n",
       "   Geography_Germany  Geography_Spain  \n",
       "0                  0                0  \n",
       "1                  0                1  \n",
       "2                  0                0  \n",
       "3                  0                0  \n",
       "4                  0                1  "
      ]
     },
     "execution_count": 30,
     "metadata": {},
     "output_type": "execute_result"
    }
   ],
   "source": [
    "X = pd.get_dummies(X) # convert ALL text-columns to categorical variables (One Hot encoding)\n",
    "columnNames = list(X.columns) # grab column-names before converting to numpy array\n",
    "\n",
    "X.head()"
   ]
  },
  {
   "cell_type": "code",
   "execution_count": 31,
   "metadata": {},
   "outputs": [
    {
     "name": "stdout",
     "output_type": "stream",
     "text": [
      "(10000, 8)\n",
      "(10000, 8)\n"
     ]
    }
   ],
   "source": [
    "X = X.values    # convert from Pandas dataframe to numpy array\n",
    "y = y.values\n",
    "\n",
    "print(X.shape)\n",
    "X_train, X_test, y_train, y_test = train_test_split(X, y, test_size = 0.2, random_state = 42 )"
   ]
  },
  {
   "cell_type": "code",
   "execution_count": 32,
   "metadata": {},
   "outputs": [
    {
     "name": "stdout",
     "output_type": "stream",
     "text": [
      "8\n"
     ]
    }
   ],
   "source": [
    "print(X.shape[1])   # length of input vectors needed to decide input shape below"
   ]
  },
  {
   "cell_type": "code",
   "execution_count": 33,
   "metadata": {},
   "outputs": [
    {
     "name": "stderr",
     "output_type": "stream",
     "text": [
      "2022-11-05 12:14:37.841005: I tensorflow/core/grappler/optimizers/custom_graph_optimizer_registry.cc:114] Plugin optimizer for device_type GPU is enabled.\n",
      "2022-11-05 12:14:37.855625: I tensorflow/core/grappler/optimizers/custom_graph_optimizer_registry.cc:114] Plugin optimizer for device_type GPU is enabled.\n"
     ]
    }
   ],
   "source": [
    "# Use keras functional API to include the Normalization in the model\n",
    "# (save the hassle of normalizing input data before predicting with the trained model)\n",
    "\n",
    "# create a Normalization layer and set its internal state using the training data\n",
    "normalizer = tf.keras.layers.Normalization()\n",
    "normalizer.adapt(X_train)\n",
    "\n",
    "# create a model that include the normalization layer\n",
    "inputs = tf.keras.Input(shape=(X.shape[1],))            # create inputs\n",
    "x = normalizer(inputs)                                  # feed the normalizer with input data\n",
    "x = tf.keras.layers.Dense(16, activation='relu')(x)     # feed the Dense layer with output from normalizer\n",
    "x = tf.keras.layers.Dense(32, activation='relu')(x)     # feed layer with output from previous layer\n",
    "x = tf.keras.layers.Dense(16, activation='relu')(x)     # -- || --\n",
    "\n",
    "output = tf.keras.layers.Dense(1, activation='sigmoid')(x)  # the last layer is the output\n",
    "model = tf.keras.Model(inputs, output)                      # create the model\n",
    "\n",
    "adam = tf.keras.optimizers.Adam(learning_rate=0.001)\n",
    "model.compile(loss='binary_crossentropy', optimizer=adam, metrics=['accuracy'])"
   ]
  },
  {
   "cell_type": "code",
   "execution_count": 34,
   "metadata": {},
   "outputs": [
    {
     "name": "stdout",
     "output_type": "stream",
     "text": [
      "Epoch 1/50\n",
      "  8/125 [>.............................] - ETA: 0s - loss: 0.6633 - accuracy: 0.6211 "
     ]
    },
    {
     "name": "stderr",
     "output_type": "stream",
     "text": [
      "2022-11-05 12:14:38.545420: I tensorflow/core/grappler/optimizers/custom_graph_optimizer_registry.cc:114] Plugin optimizer for device_type GPU is enabled.\n"
     ]
    },
    {
     "name": "stdout",
     "output_type": "stream",
     "text": [
      "119/125 [===========================>..] - ETA: 0s - loss: 0.5077 - accuracy: 0.7860"
     ]
    },
    {
     "name": "stderr",
     "output_type": "stream",
     "text": [
      "2022-11-05 12:14:39.608859: I tensorflow/core/grappler/optimizers/custom_graph_optimizer_registry.cc:114] Plugin optimizer for device_type GPU is enabled.\n"
     ]
    },
    {
     "name": "stdout",
     "output_type": "stream",
     "text": [
      "125/125 [==============================] - 1s 10ms/step - loss: 0.5048 - accuracy: 0.7875 - val_loss: 0.4178 - val_accuracy: 0.8215\n",
      "Epoch 2/50\n",
      "125/125 [==============================] - 1s 8ms/step - loss: 0.4133 - accuracy: 0.8283 - val_loss: 0.3814 - val_accuracy: 0.8540\n",
      "Epoch 3/50\n",
      "125/125 [==============================] - 1s 8ms/step - loss: 0.3875 - accuracy: 0.8451 - val_loss: 0.3609 - val_accuracy: 0.8560\n",
      "Epoch 4/50\n",
      "125/125 [==============================] - 1s 8ms/step - loss: 0.3719 - accuracy: 0.8509 - val_loss: 0.3613 - val_accuracy: 0.8540\n",
      "Epoch 5/50\n",
      "125/125 [==============================] - 1s 7ms/step - loss: 0.3655 - accuracy: 0.8523 - val_loss: 0.3587 - val_accuracy: 0.8600\n",
      "Epoch 6/50\n",
      "125/125 [==============================] - 1s 7ms/step - loss: 0.3604 - accuracy: 0.8543 - val_loss: 0.3501 - val_accuracy: 0.8615\n",
      "Epoch 7/50\n",
      "125/125 [==============================] - 1s 7ms/step - loss: 0.3581 - accuracy: 0.8560 - val_loss: 0.3482 - val_accuracy: 0.8600\n",
      "Epoch 8/50\n",
      "125/125 [==============================] - 1s 7ms/step - loss: 0.3555 - accuracy: 0.8565 - val_loss: 0.3512 - val_accuracy: 0.8640\n",
      "Epoch 9/50\n",
      "125/125 [==============================] - 1s 7ms/step - loss: 0.3541 - accuracy: 0.8563 - val_loss: 0.3466 - val_accuracy: 0.8660\n",
      "Epoch 10/50\n",
      "125/125 [==============================] - 1s 7ms/step - loss: 0.3524 - accuracy: 0.8570 - val_loss: 0.3513 - val_accuracy: 0.8655\n",
      "Epoch 11/50\n",
      "125/125 [==============================] - 1s 7ms/step - loss: 0.3513 - accuracy: 0.8589 - val_loss: 0.3486 - val_accuracy: 0.8650\n",
      "Epoch 12/50\n",
      "125/125 [==============================] - 1s 7ms/step - loss: 0.3506 - accuracy: 0.8581 - val_loss: 0.3461 - val_accuracy: 0.8665\n",
      "Epoch 13/50\n",
      "125/125 [==============================] - 1s 7ms/step - loss: 0.3490 - accuracy: 0.8593 - val_loss: 0.3470 - val_accuracy: 0.8655\n",
      "Epoch 14/50\n",
      "125/125 [==============================] - 1s 7ms/step - loss: 0.3495 - accuracy: 0.8591 - val_loss: 0.3444 - val_accuracy: 0.8645\n",
      "Epoch 15/50\n",
      "125/125 [==============================] - 1s 7ms/step - loss: 0.3482 - accuracy: 0.8599 - val_loss: 0.3470 - val_accuracy: 0.8650\n",
      "Epoch 16/50\n",
      "125/125 [==============================] - 1s 7ms/step - loss: 0.3473 - accuracy: 0.8606 - val_loss: 0.3458 - val_accuracy: 0.8645\n",
      "Epoch 17/50\n",
      "125/125 [==============================] - 1s 7ms/step - loss: 0.3469 - accuracy: 0.8604 - val_loss: 0.3547 - val_accuracy: 0.8625\n",
      "Epoch 18/50\n",
      "125/125 [==============================] - 1s 7ms/step - loss: 0.3462 - accuracy: 0.8605 - val_loss: 0.3462 - val_accuracy: 0.8655\n",
      "Epoch 19/50\n",
      "125/125 [==============================] - 1s 7ms/step - loss: 0.3451 - accuracy: 0.8603 - val_loss: 0.3429 - val_accuracy: 0.8650\n",
      "Epoch 20/50\n",
      "125/125 [==============================] - 1s 7ms/step - loss: 0.3448 - accuracy: 0.8614 - val_loss: 0.3446 - val_accuracy: 0.8635\n",
      "Epoch 21/50\n",
      "125/125 [==============================] - 1s 7ms/step - loss: 0.3443 - accuracy: 0.8609 - val_loss: 0.3432 - val_accuracy: 0.8625\n",
      "Epoch 22/50\n",
      "125/125 [==============================] - 1s 7ms/step - loss: 0.3438 - accuracy: 0.8599 - val_loss: 0.3424 - val_accuracy: 0.8650\n",
      "Epoch 23/50\n",
      "125/125 [==============================] - 1s 7ms/step - loss: 0.3432 - accuracy: 0.8605 - val_loss: 0.3456 - val_accuracy: 0.8640\n",
      "Epoch 24/50\n",
      "125/125 [==============================] - 1s 7ms/step - loss: 0.3423 - accuracy: 0.8616 - val_loss: 0.3452 - val_accuracy: 0.8635\n",
      "Epoch 25/50\n",
      "125/125 [==============================] - 1s 7ms/step - loss: 0.3417 - accuracy: 0.8631 - val_loss: 0.3455 - val_accuracy: 0.8630\n",
      "Epoch 26/50\n",
      "125/125 [==============================] - 1s 7ms/step - loss: 0.3415 - accuracy: 0.8625 - val_loss: 0.3456 - val_accuracy: 0.8635\n",
      "Epoch 27/50\n",
      "125/125 [==============================] - 1s 7ms/step - loss: 0.3425 - accuracy: 0.8609 - val_loss: 0.3509 - val_accuracy: 0.8640\n",
      "Epoch 28/50\n",
      "125/125 [==============================] - 1s 7ms/step - loss: 0.3422 - accuracy: 0.8625 - val_loss: 0.3449 - val_accuracy: 0.8630\n",
      "Epoch 29/50\n",
      "125/125 [==============================] - 1s 7ms/step - loss: 0.3414 - accuracy: 0.8624 - val_loss: 0.3464 - val_accuracy: 0.8640\n",
      "Epoch 30/50\n",
      "125/125 [==============================] - 1s 7ms/step - loss: 0.3399 - accuracy: 0.8631 - val_loss: 0.3421 - val_accuracy: 0.8645\n",
      "Epoch 31/50\n",
      "125/125 [==============================] - 1s 7ms/step - loss: 0.3399 - accuracy: 0.8633 - val_loss: 0.3550 - val_accuracy: 0.8605\n",
      "Epoch 32/50\n",
      "125/125 [==============================] - 1s 7ms/step - loss: 0.3397 - accuracy: 0.8625 - val_loss: 0.3435 - val_accuracy: 0.8610\n",
      "Epoch 33/50\n",
      "125/125 [==============================] - 1s 7ms/step - loss: 0.3395 - accuracy: 0.8623 - val_loss: 0.3440 - val_accuracy: 0.8635\n",
      "Epoch 34/50\n",
      "125/125 [==============================] - 1s 7ms/step - loss: 0.3398 - accuracy: 0.8636 - val_loss: 0.3456 - val_accuracy: 0.8640\n",
      "Epoch 35/50\n",
      "125/125 [==============================] - 1s 7ms/step - loss: 0.3389 - accuracy: 0.8633 - val_loss: 0.3439 - val_accuracy: 0.8640\n",
      "Epoch 36/50\n",
      "125/125 [==============================] - 1s 7ms/step - loss: 0.3396 - accuracy: 0.8639 - val_loss: 0.3498 - val_accuracy: 0.8610\n",
      "Epoch 37/50\n",
      "125/125 [==============================] - 1s 7ms/step - loss: 0.3383 - accuracy: 0.8641 - val_loss: 0.3501 - val_accuracy: 0.8640\n",
      "Epoch 38/50\n",
      "125/125 [==============================] - 1s 7ms/step - loss: 0.3388 - accuracy: 0.8645 - val_loss: 0.3446 - val_accuracy: 0.8625\n",
      "Epoch 39/50\n",
      "125/125 [==============================] - 1s 7ms/step - loss: 0.3376 - accuracy: 0.8645 - val_loss: 0.3431 - val_accuracy: 0.8650\n",
      "Epoch 40/50\n",
      "125/125 [==============================] - 1s 7ms/step - loss: 0.3377 - accuracy: 0.8646 - val_loss: 0.3439 - val_accuracy: 0.8620\n",
      "Epoch 41/50\n",
      "125/125 [==============================] - 1s 7ms/step - loss: 0.3383 - accuracy: 0.8629 - val_loss: 0.3464 - val_accuracy: 0.8655\n",
      "Epoch 42/50\n",
      "125/125 [==============================] - 1s 7ms/step - loss: 0.3378 - accuracy: 0.8635 - val_loss: 0.3442 - val_accuracy: 0.8610\n",
      "Epoch 43/50\n",
      "125/125 [==============================] - 1s 7ms/step - loss: 0.3377 - accuracy: 0.8643 - val_loss: 0.3426 - val_accuracy: 0.8630\n",
      "Epoch 44/50\n",
      "125/125 [==============================] - 1s 7ms/step - loss: 0.3364 - accuracy: 0.8649 - val_loss: 0.3450 - val_accuracy: 0.8600\n",
      "Epoch 45/50\n",
      "125/125 [==============================] - 1s 7ms/step - loss: 0.3369 - accuracy: 0.8658 - val_loss: 0.3421 - val_accuracy: 0.8640\n",
      "Epoch 46/50\n",
      "125/125 [==============================] - 1s 7ms/step - loss: 0.3360 - accuracy: 0.8640 - val_loss: 0.3551 - val_accuracy: 0.8595\n",
      "Epoch 47/50\n",
      "125/125 [==============================] - 1s 7ms/step - loss: 0.3369 - accuracy: 0.8636 - val_loss: 0.3418 - val_accuracy: 0.8640\n",
      "Epoch 48/50\n",
      "125/125 [==============================] - 1s 7ms/step - loss: 0.3364 - accuracy: 0.8646 - val_loss: 0.3425 - val_accuracy: 0.8615\n",
      "Epoch 49/50\n",
      "125/125 [==============================] - 1s 7ms/step - loss: 0.3354 - accuracy: 0.8646 - val_loss: 0.3424 - val_accuracy: 0.8620\n",
      "Epoch 50/50\n",
      "125/125 [==============================] - 1s 7ms/step - loss: 0.3359 - accuracy: 0.8656 - val_loss: 0.3425 - val_accuracy: 0.8630\n"
     ]
    }
   ],
   "source": [
    "\n",
    "history = model.fit(X_train,y_train,epochs=50, batch_size=64, validation_data=(X_test,y_test))"
   ]
  },
  {
   "cell_type": "code",
   "execution_count": 35,
   "metadata": {},
   "outputs": [
    {
     "data": {
      "image/png": "[encoded data removed]",
      "text/plain": [
       "<Figure size 640x480 with 1 Axes>"
      ]
     },
     "metadata": {},
     "output_type": "display_data"
    }
   ],
   "source": [
    "# model.save(\"bank-customer2.h5\")\n",
    "\n",
    "# plot loss and validation loss derived from training\n",
    "import matplotlib.pyplot as plt\n",
    "loss_values = history.history[\"loss\"]\n",
    "val_loss_values = history.history[\"val_loss\"]\n",
    "epochs = range(1, len(loss_values) + 1)\n",
    "plt.plot(epochs, loss_values, \"b\", label=\"Training loss\")\n",
    "plt.plot(epochs, val_loss_values, \"r\", label=\"Validation loss\")\n",
    "plt.title(\"Training and validation loss\")\n",
    "plt.xlabel(\"Epochs\")\n",
    "plt.ylabel(\"Loss\")\n",
    "plt.legend()\n",
    "plt.show()"
   ]
  },
  {
   "cell_type": "code",
   "execution_count": 36,
   "metadata": {},
   "outputs": [
    {
     "name": "stdout",
     "output_type": "stream",
     "text": [
      "63/63 [==============================] - 0s 2ms/step\n",
      "[[1551   56]\n",
      " [ 218  175]]\n"
     ]
    },
    {
     "name": "stderr",
     "output_type": "stream",
     "text": [
      "2022-11-05 12:15:22.095082: I tensorflow/core/grappler/optimizers/custom_graph_optimizer_registry.cc:114] Plugin optimizer for device_type GPU is enabled.\n"
     ]
    }
   ],
   "source": [
    "# create confusion matrix\n",
    "y_pred = model.predict(X_test)  # predictions for all input vectors in X_test\n",
    "y_pred = (y_pred > 0.5) # creates a new array with true/false based on the boolean test\n",
    "\n",
    "cm = confusion_matrix(y_test, y_pred)\n",
    "print(cm)\n"
   ]
  },
  {
   "cell_type": "code",
   "execution_count": 37,
   "metadata": {},
   "outputs": [
    {
     "name": "stdout",
     "output_type": "stream",
     "text": [
      "['CreditScore', 'Age', 'Tenure', 'NumOfProducts', 'IsActiveMember', 'Geography_France', 'Geography_Germany', 'Geography_Spain']\n",
      "1/1 [==============================] - 0s 34ms/step\n"
     ]
    },
    {
     "data": {
      "text/plain": [
       "array([[0.06077746]], dtype=float32)"
      ]
     },
     "execution_count": 37,
     "metadata": {},
     "output_type": "execute_result"
    }
   ],
   "source": [
    "# make a single prediction\n",
    "print(columnNames) # print column names so you can enter new data in the correct columns\n",
    "new_input = [[596, 32, 3, 2, 0, 0, 1, 0]] # enter new data in 2D array\n",
    "model.predict(new_input)"
   ]
  }
 ],
 "metadata": {
  "kernelspec": {
   "display_name": "Python 3.10.6 ('tensor-flow')",
   "language": "python",
   "name": "python3"
  },
  "language_info": {
   "codemirror_mode": {
    "name": "ipython",
    "version": 3
   },
   "file_extension": ".py",
   "mimetype": "text/x-python",
   "name": "python",
   "nbconvert_exporter": "python",
   "pygments_lexer": "ipython3",
   "version": "3.10.6"
  },
  "orig_nbformat": 4,
  "vscode": {
   "interpreter": {
    "hash": "dd7ce872adcabf8f14543ec57495c878f1a3e3d491ffb3d39b8fdd1f74c29c62"
   }
  }
 },
 "nbformat": 4,
 "nbformat_minor": 2
}
