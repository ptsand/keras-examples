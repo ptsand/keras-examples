{
 "cells": [
  {
   "cell_type": "code",
   "execution_count": 5,
   "metadata": {},
   "outputs": [],
   "source": [
    "import numpy as np\n",
    "from tensorflow.keras.models import Sequential, load_model\n",
    "from tensorflow.keras.layers import Dense, Conv2D, MaxPool2D, Flatten, Dropout\n",
    "from tensorflow.keras.optimizers import Adam\n",
    "from keras.preprocessing.image import ImageDataGenerator\n",
    "from keras.preprocessing import image\n",
    "import matplotlib.pyplot as plt\n",
    "\n",
    "targetSize = 160                    # pixel dimension after ImageDataGenerator has processed\n",
    "color = 'rgb'                       # use 'grayscale' for black/white, 'rgb' for color\n",
    "classMode='categorical'             # use 'categorical' for > 2 class, 'binary' for two-class problems\n",
    "input_path = 'datasets/img/vegetables'"
   ]
  },
  {
   "cell_type": "code",
   "execution_count": 6,
   "metadata": {},
   "outputs": [
    {
     "name": "stdout",
     "output_type": "stream",
     "text": [
      "Found 15000 images belonging to 15 classes.\n",
      "Found 3000 images belonging to 15 classes.\n",
      "Found 3000 images belonging to 15 classes.\n"
     ]
    }
   ],
   "source": [
    "train_datagen = ImageDataGenerator(\n",
    "        rescale=1./255,  # change pixel value from 0-255 to 0.0 - 1.0\n",
    "        shear_range=0.2, # distort the image sideways\n",
    "        zoom_range=0.2,\n",
    "        horizontal_flip=True\n",
    "        )\n",
    "# (use shear_range, zoom_range and horizontal_flip to \"disturb\" the images to reduce overfitting)\n",
    "\n",
    "test_datagen = ImageDataGenerator(rescale=1./255) # no zoom or shear, since this is test data\n",
    "\n",
    "training_set = train_datagen.flow_from_directory(\n",
    "        input_path+'/train', # path to folder with images for training\n",
    "        target_size=(targetSize, targetSize), # size of output image, f.x. 28 x 28 pixel\n",
    "        batch_size=32, # how many images to load at a time\n",
    "        class_mode=classMode,\n",
    "        color_mode=color)\n",
    "\n",
    "validation_set = train_datagen.flow_from_directory(\n",
    "        input_path+'/validation', # path to folder with images for validation\n",
    "        target_size=(targetSize, targetSize),\n",
    "        batch_size=32,\n",
    "        class_mode=classMode,\n",
    "        color_mode=color)\n",
    "\n",
    "test_set = test_datagen.flow_from_directory(\n",
    "        input_path+'/test', # path to folder with images for testing\n",
    "        target_size=(targetSize, targetSize),\n",
    "        batch_size=32,\n",
    "        class_mode=classMode,\n",
    "        color_mode=color)   "
   ]
  },
  {
   "cell_type": "code",
   "execution_count": 7,
   "metadata": {},
   "outputs": [],
   "source": [
    "model = Sequential() # instantiate new Sequential model object\n",
    "\n",
    "model.add(Conv2D(filters=32,        # specify number of filters. Higher number for more complex images\n",
    "               kernel_size=3,       # size of filter - typically 3, as in 3x3\n",
    "               activation=\"relu\",   # activation function, often 'relu' on layers before last\n",
    "               input_shape=[targetSize, targetSize, 3])) # dimension of image, coming in from training set\n",
    "               # here 28x28 pixel. '1' is number of color channels. B/W = 1, Color = 3.\n",
    "\n",
    "model.add(MaxPool2D(pool_size=2, strides=2)) # reduce the image size. Here 4 pixels will become 1 pixel. \n",
    "# pool_size is the size of the square which will be converted to just one pixel. Often 2, as in 2x2.\n",
    "# strides is how many pixels to move to the right after each pooling operation. Often 2. \n",
    "# You are free to add more layers of Conv2D and MaxPool2D to make the model smarter\n",
    "\n",
    "model.add(Conv2D(filters=64, kernel_size=3, activation=\"relu\", input_shape=[targetSize,targetSize,3]))\n",
    "model.add(MaxPool2D(pool_size=2, strides=2))\n",
    "model.add(Conv2D(filters=128, kernel_size=3, activation=\"relu\"))\n",
    "model.add(MaxPool2D(pool_size=2, strides=2))\n",
    "model.add(Conv2D(filters=128, kernel_size=3, activation=\"relu\"))\n",
    "model.add(MaxPool2D(pool_size=2, strides=2))\n",
    "model.add(Conv2D(filters=256, kernel_size=3, activation=\"relu\"))\n",
    "\n",
    "model.add(Flatten())        # reshape to to a single vector\n",
    "model.add(Dropout(0.5))     # ref: https://keras.io/api/layers/regularization_layers/dropout\n",
    "\n",
    "model.add(Dense(units=64, activation=\"relu\"))\n",
    "model.add(Dense(units=15, activation=\"softmax\"))\n",
    "\n",
    "adam = Adam(learning_rate=0.001) # use the Adam optimizer, specify learning-rate\n",
    "# more than two classes => use categorical_crossentropy as loss function, and measure accuracy after each epoch\n",
    "model.compile(optimizer=adam, loss='categorical_crossentropy', metrics=['accuracy'])"
   ]
  },
  {
   "cell_type": "code",
   "execution_count": 8,
   "metadata": {},
   "outputs": [
    {
     "name": "stdout",
     "output_type": "stream",
     "text": [
      "Epoch 1/10\n"
     ]
    },
    {
     "name": "stderr",
     "output_type": "stream",
     "text": [
      "2022-11-05 15:44:18.920695: I tensorflow/core/grappler/optimizers/custom_graph_optimizer_registry.cc:114] Plugin optimizer for device_type GPU is enabled.\n"
     ]
    },
    {
     "name": "stdout",
     "output_type": "stream",
     "text": [
      "469/469 [==============================] - ETA: 0s - loss: 1.6763 - accuracy: 0.4096"
     ]
    },
    {
     "name": "stderr",
     "output_type": "stream",
     "text": [
      "2022-11-05 15:45:02.513661: I tensorflow/core/grappler/optimizers/custom_graph_optimizer_registry.cc:114] Plugin optimizer for device_type GPU is enabled.\n"
     ]
    },
    {
     "name": "stdout",
     "output_type": "stream",
     "text": [
      "469/469 [==============================] - 52s 110ms/step - loss: 1.6763 - accuracy: 0.4096 - val_loss: 1.2522 - val_accuracy: 0.5793\n",
      "Epoch 2/10\n",
      "469/469 [==============================] - 50s 108ms/step - loss: 0.9779 - accuracy: 0.6659 - val_loss: 0.7815 - val_accuracy: 0.7397\n",
      "Epoch 3/10\n",
      "469/469 [==============================] - 51s 108ms/step - loss: 0.6161 - accuracy: 0.7893 - val_loss: 0.4877 - val_accuracy: 0.8437\n",
      "Epoch 4/10\n",
      "469/469 [==============================] - 50s 107ms/step - loss: 0.4313 - accuracy: 0.8553 - val_loss: 0.4215 - val_accuracy: 0.8630\n",
      "Epoch 5/10\n",
      "469/469 [==============================] - 51s 108ms/step - loss: 0.3659 - accuracy: 0.8785 - val_loss: 0.4686 - val_accuracy: 0.8480\n",
      "Epoch 6/10\n",
      "469/469 [==============================] - 51s 108ms/step - loss: 0.2644 - accuracy: 0.9145 - val_loss: 0.1988 - val_accuracy: 0.9413\n",
      "Epoch 7/10\n",
      "469/469 [==============================] - 51s 108ms/step - loss: 0.2315 - accuracy: 0.9265 - val_loss: 0.2294 - val_accuracy: 0.9283\n",
      "Epoch 8/10\n",
      "469/469 [==============================] - 52s 110ms/step - loss: 0.2154 - accuracy: 0.9340 - val_loss: 0.1627 - val_accuracy: 0.9503\n",
      "Epoch 9/10\n",
      "469/469 [==============================] - 52s 110ms/step - loss: 0.1626 - accuracy: 0.9472 - val_loss: 0.1395 - val_accuracy: 0.9560\n",
      "Epoch 10/10\n",
      "469/469 [==============================] - 51s 108ms/step - loss: 0.1585 - accuracy: 0.9469 - val_loss: 0.1599 - val_accuracy: 0.9523\n"
     ]
    },
    {
     "data": {
      "text/plain": [
       "{'Bean': 0,\n",
       " 'Bitter_Gourd': 1,\n",
       " 'Bottle_Gourd': 2,\n",
       " 'Brinjal': 3,\n",
       " 'Broccoli': 4,\n",
       " 'Cabbage': 5,\n",
       " 'Capsicum': 6,\n",
       " 'Carrot': 7,\n",
       " 'Cauliflower': 8,\n",
       " 'Cucumber': 9,\n",
       " 'Papaya': 10,\n",
       " 'Potato': 11,\n",
       " 'Pumpkin': 12,\n",
       " 'Radish': 13,\n",
       " 'Tomato': 14}"
      ]
     },
     "execution_count": 8,
     "metadata": {},
     "output_type": "execute_result"
    }
   ],
   "source": [
    "history = model.fit(training_set, epochs=10, validation_data=validation_set) # train the model"
   ]
  },
  {
   "cell_type": "code",
   "execution_count": 9,
   "metadata": {},
   "outputs": [
    {
     "data": {
      "image/png": "[encoded data removed]",
      "text/plain": [
       "<Figure size 640x480 with 1 Axes>"
      ]
     },
     "metadata": {},
     "output_type": "display_data"
    }
   ],
   "source": [
    "accuracy = history.history[\"accuracy\"]\n",
    "val_accuracy = history.history[\"val_accuracy\"]\n",
    "epochs = range(1, len(accuracy) + 1)\n",
    "plt.plot(epochs, accuracy, \"b\", label=\"Training accuracy\")\n",
    "plt.plot(epochs, val_accuracy, \"r\", label=\"Validation accuracy\")\n",
    "plt.title(\"Training and validation accuracy\")\n",
    "plt.xlabel(\"Epochs\")\n",
    "plt.ylabel(\"Accuracy\")\n",
    "plt.legend()\n",
    "plt.show()"
   ]
  },
  {
   "cell_type": "code",
   "execution_count": 10,
   "metadata": {},
   "outputs": [
    {
     "name": "stdout",
     "output_type": "stream",
     "text": [
      "94/94 [==============================] - 3s 29ms/step - loss: 0.1424 - accuracy: 0.9583\n"
     ]
    },
    {
     "data": {
      "text/plain": [
       "[0.14235533773899078, 0.9583333134651184]"
      ]
     },
     "execution_count": 10,
     "metadata": {},
     "output_type": "execute_result"
    }
   ],
   "source": [
    "# model.save('models/vegetables.h5')\n",
    "# model = load_model('models/vegetables.h5')\n",
    "model.evaluate(test_set)"
   ]
  },
  {
   "cell_type": "code",
   "execution_count": 17,
   "metadata": {},
   "outputs": [
    {
     "name": "stdout",
     "output_type": "stream",
     "text": [
      "1/1 [==============================] - 0s 15ms/step\n",
      "result vector:  [3.1424500e-03 6.9902898e-03 6.0886253e-02 1.0820410e-02 1.7301631e-05\n",
      " 6.9940347e-06 8.9347605e-03 8.4081141e-04 8.1145381e-06 5.8483239e-04\n",
      " 1.1873937e-02 6.8362802e-04 8.5038319e-06 4.1959336e-04 8.9478201e-01]\n",
      "label inferred:  Tomato\n"
     ]
    }
   ],
   "source": [
    "single_prediction = input_path + '/test/Tomato/1001.jpg'\n",
    "test_image = image.image_utils.load_img(single_prediction, target_size=[targetSize,targetSize], color_mode=color)\n",
    "\n",
    "test_image = image.image_utils.img_to_array(test_image) # convert image to array\n",
    "test_image = np.expand_dims(test_image,axis=0)          # add extra dimension to hold batch\n",
    "\n",
    "result = model.predict(test_image/255.0)                # normalize pixel values\n",
    "\n",
    "print(\"result vector: \", result[0])\n",
    "class_index = np.argmax(result[0])                      # get index of the largest number (the predicted class)\n",
    "classes = list(training_set.class_indices.keys())       # classes array to map from class number to labels\n",
    "print(\"this vegetable is a \", classes[class_index])     # print the inferred label"
   ]
  }
 ],
 "metadata": {
  "kernelspec": {
   "display_name": "Python 3.10.6 ('tensor-flow')",
   "language": "python",
   "name": "python3"
  },
  "language_info": {
   "codemirror_mode": {
    "name": "ipython",
    "version": 3
   },
   "file_extension": ".py",
   "mimetype": "text/x-python",
   "name": "python",
   "nbconvert_exporter": "python",
   "pygments_lexer": "ipython3",
   "version": "3.10.6"
  },
  "orig_nbformat": 4,
  "vscode": {
   "interpreter": {
    "hash": "dd7ce872adcabf8f14543ec57495c878f1a3e3d491ffb3d39b8fdd1f74c29c62"
   }
  }
 },
 "nbformat": 4,
 "nbformat_minor": 2
}
